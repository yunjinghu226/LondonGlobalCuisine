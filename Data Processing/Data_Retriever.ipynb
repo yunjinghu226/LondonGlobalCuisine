{
 "cells": [
  {
   "cell_type": "code",
   "execution_count": 35,
   "metadata": {},
   "outputs": [],
   "source": [
    "import requests\n",
    "import json\n",
    "import pandas as pd\n",
    "import matplotlib.pyplot as plt\n",
    "import numpy as np"
   ]
  },
  {
   "cell_type": "code",
   "execution_count": 2,
   "metadata": {},
   "outputs": [],
   "source": [
    "# essential arguments used to send api requests\n",
    "api_key = 'UF5QVpBto76t3r-vYVt0eIXz6Kq-fsRSgggPQHW582_NF88DE0UOMvfBPv68cxs7ngjZKsnjF3xwAP_1YtWcmYAPktZnbNgannn-jc-TG1_M7qdVeopSs-TGDAtyXHYx'\n",
    "headers = {'Authorization': 'Bearer %s' % api_key}\n",
    "url = 'https://api.yelp.com/v3/businesses/search'"
   ]
  },
  {
   "cell_type": "code",
   "execution_count": 3,
   "metadata": {},
   "outputs": [],
   "source": [
    "# list of original categories available on Yelp\n",
    "categories = ['italian','french','spanish','portuguese','austrian','belgian','bulgarian','czech','georgian','german','hungarian','fondue','polish','scandinavian','african','ethiopian','moroccan','mediterranean','greek','kebab','turkish','arabian','pakistani','mideastern','afghani','australian','russian','ukrainian','chinese','taiwanese','indpak','cambodian','indonesian','laotian','malaysian','singaporean','srilankan','thai','vietnamese','japanese','korean','bangladeshi','burmese','filipino','himalayan','asianfusion','mongolian','newamerican','tradamerican','hawaiian','mexican','argentine','brazilian','caribbean','cuban','latin','peruvian']"
   ]
  },
  {
   "cell_type": "code",
   "execution_count": 4,
   "metadata": {},
   "outputs": [],
   "source": [
    "# combined general categories\n",
    "general_cate = [{'Italian':['italian']},\n",
    "               {'Chinese':['chinese','taiwanese']},\n",
    "               {'Indian':['indpak']},\n",
    "               {'Japanese_Korean':['japanese','korean']},\n",
    "               {'Pakistani':['pakistani']},\n",
    "               {'Southeast_Asian':['thai', 'vietnamese', 'malaysian', 'indonesian', 'bangladeshi', 'burmese', 'singaporean', 'srilankan', 'laotian']},\n",
    "               {'Mediterranean':['mediterranean', 'greek', 'turkish', 'kebab']},\n",
    "               {'French':['french']},\n",
    "               {'Middle_Eastern':['mideastern','arabian']},\n",
    "               {'American':['tradamerican','newamerican']},\n",
    "               {'European_Other':['spanish', 'portuguese', 'polish', 'german', 'scandinavian', 'belgian', 'austrian', 'hungarian', 'fondue', 'czech', 'bulgarian']},\n",
    "               {'African':['african','moroccan','ethiopian']},\n",
    "               {'Latin_American':['mexican','caribbean','latin', 'brazilian', 'argentine', 'peruvian', 'cuban']},\n",
    "               {'Other':['asianfusion', 'russian', 'australian', 'hawaiian', 'filipino', 'himalayan', 'ukrainian', 'georgian']}\n",
    "               ]"
   ]
  },
  {
   "cell_type": "code",
   "execution_count": 7,
   "metadata": {},
   "outputs": [],
   "source": [
    "# a csv containing the info to define search areas (processed from the London boroughs shapefile in ArcGIS)\n",
    "centroids = pd.read_csv(\"centroids.csv\")"
   ]
  },
  {
   "cell_type": "code",
   "execution_count": 24,
   "metadata": {},
   "outputs": [],
   "source": [
    "# create a list of search area parameters\n",
    "c_x = centroids.centroid_x.tolist()\n",
    "c_y = centroids.centroid_y.tolist()\n",
    "mbg_r = centroids.radius.tolist()\n",
    "search_areas = []\n",
    "for i in range(33):\n",
    "    search_para = dict(longitude=c_x[i],latitude=c_y[i],radius=int(mbg_r[i]))\n",
    "    search_areas.append(search_para)"
   ]
  },
  {
   "cell_type": "code",
   "execution_count": 28,
   "metadata": {},
   "outputs": [],
   "source": [
    "# a series of functions used to retrieve and convert data\n",
    "def search_area(offset,category,search_range):\n",
    "    # return the list of businesses of certain category (string) in the specified search area (dictionary)\n",
    "    \n",
    "    params = {'term':'restaurants','locale':'en_GB','limit':50,'offset':offset,'categories':category}\n",
    "    params.update(search_range)\n",
    "    req=requests.get(url, params=params, headers=headers)\n",
    "    return req.json()['businesses']\n",
    "\n",
    "def business_retriever(category,search_range):\n",
    "    # retrive the json data of a certian cusine category in the specified area and store as a list\n",
    "    \n",
    "    cate_results = []\n",
    "    \n",
    "    # test number of total restaurants in this category\n",
    "    params = {'term':'restaurants','locale':'en_GB','limit':1,'offset':0,'categories':category}\n",
    "    params.update(search_range)\n",
    "    req=requests.get(url, params=params, headers=headers)\n",
    "    \n",
    "    if req.status_code == 200: # proceed only if the status code is 200\n",
    "        total = req.json()['total']\n",
    "        if total > 1000:\n",
    "            print ('There are more than 1000 restaurants under category',category,'. Only the first 1000 will be returned.')\n",
    "            for offset in range(0,1000,50):\n",
    "                results = search_area(offset,category,search_range)\n",
    "                cate_results.extend(results)\n",
    "        elif total > 50 and total <= 1000:\n",
    "            for offset in range(0,total,50):\n",
    "                results = search_area(offset,category,search_range)\n",
    "                cate_results.extend(results)\n",
    "        else:\n",
    "            cate_results.extend(search_area(0,category,search_range))\n",
    "            \n",
    "    else:\n",
    "        print ('Error in retrieving data.')\n",
    "        \n",
    "    return cate_results\n",
    "\n",
    "def extractor(categories,search_range):\n",
    "    # extract useful info from data retrieved and combine restaurants of different categories into one list\n",
    "    full_restaurants = []\n",
    "    for category in categories: # loop through all the categories\n",
    "        results = business_retriever(category,search_range)\n",
    "        for restaurant in results: # loop through restaurants in each category\n",
    "            if restaurant['is_closed'] == False: # only keep records that are still open\n",
    "                rest_out = {}\n",
    "                rest_out['id'] = restaurant['id']\n",
    "                rest_out['category'] = category\n",
    "                rest_out['longitude'] = restaurant['coordinates']['longitude']\n",
    "                rest_out['latitude'] = restaurant['coordinates']['latitude']\n",
    "                full_restaurants.append(rest_out)\n",
    "    return full_restaurants"
   ]
  },
  {
   "cell_type": "code",
   "execution_count": 29,
   "metadata": {},
   "outputs": [
    {
     "name": "stdout",
     "output_type": "stream",
     "text": [
      "Error in retrieving data.\n",
      "Error in retrieving data.\n"
     ]
    }
   ],
   "source": [
    "'''\n",
    "# loop through the search areas, extract restaurant information and combine them together\n",
    "rest_list = []\n",
    "for area in search_areas:\n",
    "    resta_area = extractor(categories,area)\n",
    "    rest_list.extend(resta_area)\n",
    "'''"
   ]
  },
  {
   "cell_type": "code",
   "execution_count": 32,
   "metadata": {},
   "outputs": [],
   "source": [
    "# transform the list to a dataframe\n",
    "rest_df = pd.DataFrame(rest_list)\n",
    "# remove the duplicates\n",
    "final_df = rest_df.drop_duplicates(subset='id')"
   ]
  },
  {
   "cell_type": "code",
   "execution_count": 37,
   "metadata": {},
   "outputs": [],
   "source": [
    "# a new column was added to the dataframe and the general category of each entry was assigned\n",
    "final_df.loc[:,'general_category'] = np.nan\n",
    "for dicts in general_cate:\n",
    "    for small_cate in list(dicts.values())[0]:\n",
    "        final_df.loc[final_df.category == small_cate,['general_category']] = list(dicts.keys())[0]"
   ]
  },
  {
   "cell_type": "code",
   "execution_count": 39,
   "metadata": {},
   "outputs": [],
   "source": [
    "final_df.to_csv(\"restaurants.csv\")"
   ]
  }
 ],
 "metadata": {
  "kernelspec": {
   "display_name": "Python 3",
   "language": "python",
   "name": "python3"
  },
  "language_info": {
   "codemirror_mode": {
    "name": "ipython",
    "version": 3
   },
   "file_extension": ".py",
   "mimetype": "text/x-python",
   "name": "python",
   "nbconvert_exporter": "python",
   "pygments_lexer": "ipython3",
   "version": "3.7.1"
  }
 },
 "nbformat": 4,
 "nbformat_minor": 2
}
